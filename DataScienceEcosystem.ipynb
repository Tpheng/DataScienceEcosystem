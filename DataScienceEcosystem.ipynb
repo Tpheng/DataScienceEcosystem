{
 "cells": [
  {
   "cell_type": "markdown",
   "id": "c86bd36d",
   "metadata": {},
   "source": [
    "# Data Science Tools and Ecosystem"
   ]
  },
  {
   "cell_type": "markdown",
   "id": "c1cf0732",
   "metadata": {},
   "source": [
    "In this notebook, Data Science Tools and Ecosystem are summarized."
   ]
  },
  {
   "cell_type": "markdown",
   "id": "f45dd76f",
   "metadata": {},
   "source": [
    "Some of the popular languages that Data Scientists use are:\n",
    "1. Python\n",
    "2. R\n",
    "3. SQL"
   ]
  },
  {
   "cell_type": "markdown",
   "id": "eb6cce77",
   "metadata": {},
   "source": [
    "Some of the commonly used libraries used by Data Scientists include:\n",
    "1. Numpy\n",
    "2. Pandas\n",
    "3. PyTouch"
   ]
  },
  {
   "cell_type": "markdown",
   "id": "339fa603",
   "metadata": {},
   "source": [
    "# Data Science Tools\n",
    "\n",
    "|Data Science Tools| \n",
    "| -- |\n",
    "|Apache Subversion|\n",
    "| -- |\n",
    "|Git|\n",
    "| -- |\n",
    "|Atom|"
   ]
  },
  {
   "cell_type": "markdown",
   "id": "093821a4",
   "metadata": {},
   "source": [
    "### Below are a few examples of evaluating expressions in Python."
   ]
  },
  {
   "cell_type": "code",
   "execution_count": 5,
   "id": "6e87b2c9",
   "metadata": {
    "scrolled": true
   },
   "outputs": [
    {
     "data": {
      "text/plain": [
       "17"
      ]
     },
     "execution_count": 5,
     "metadata": {},
     "output_type": "execute_result"
    }
   ],
   "source": [
    "(3*4)+5"
   ]
  },
  {
   "cell_type": "code",
   "execution_count": 6,
   "id": "6e2f0c1c",
   "metadata": {},
   "outputs": [
    {
     "data": {
      "text/plain": [
       "3.3333333333333335"
      ]
     },
     "execution_count": 6,
     "metadata": {},
     "output_type": "execute_result"
    }
   ],
   "source": [
    "200/60\n",
    "#The expression above converts 200 minutes into hours by dividing the minutes by 60"
   ]
  },
  {
   "cell_type": "markdown",
   "id": "96fc9cea",
   "metadata": {},
   "source": [
    "**Objectives:**\n",
    "* R\n",
    "* Python\n",
    "* SQL\n",
    "* Julia\n"
   ]
  },
  {
   "cell_type": "markdown",
   "id": "7069c27d",
   "metadata": {},
   "source": [
    "## Author\n",
    "Taylor Phengsomphone"
   ]
  },
  {
   "cell_type": "code",
   "execution_count": null,
   "id": "b358ad81",
   "metadata": {},
   "outputs": [],
   "source": []
  }
 ],
 "metadata": {
  "kernelspec": {
   "display_name": "Python 3 (ipykernel)",
   "language": "python",
   "name": "python3"
  },
  "language_info": {
   "codemirror_mode": {
    "name": "ipython",
    "version": 3
   },
   "file_extension": ".py",
   "mimetype": "text/x-python",
   "name": "python",
   "nbconvert_exporter": "python",
   "pygments_lexer": "ipython3",
   "version": "3.10.9"
  }
 },
 "nbformat": 4,
 "nbformat_minor": 5
}
